{
  "nbformat": 4,
  "nbformat_minor": 0,
  "metadata": {
    "colab": {
      "provenance": []
    },
    "kernelspec": {
      "name": "python3",
      "display_name": "Python 3"
    },
    "language_info": {
      "name": "python"
    }
  },
  "cells": [
    {
      "cell_type": "code",
      "execution_count": 2,
      "metadata": {
        "id": "0SBuwYY5P729"
      },
      "outputs": [],
      "source": [
        "# 1. Define the z-statistic and explain its relationship to the standard normal distribution. How is the z-statistic used in hypothesis testing?\n",
        "\n",
        "# The z-statistic is a measure used in statistics to determine how many standard deviations a data point is from the mean of a dataset. It is calculated using the formula:\n",
        "# z= (X−μ)/σ\n",
        "# where:\n",
        "# X is the value being standardized,\n",
        "# μ is the mean of the population,\n",
        "# σ is the standard deviation of the population.\n",
        "# The z-statistic is directly related to the standard normal distribution, which is a special normal distribution with a mean of 0 and a standard deviation of 1.\n",
        "# When data is transformed into z-scores, it allows for comparison across different datasets by standardizing them.\n",
        "# In a standard normal distribution, about 68% of the values lie within one standard deviation of the mean, 95% within two, and 99.7% within three.\n",
        "\n",
        "# In hypothesis testing, the z-statistic is used to determine whether to reject or fail to reject a null hypothesis (H0) Here’s how it works:\n",
        "\n",
        "# Formulate Hypotheses: Establish the null hypothesis (H0) and the alternative hypothesis (H1)\n",
        "\n",
        "# Choose Significance Level: Determine the significance level (often denoted as α), commonly set at 0.05.\n",
        "\n",
        "# Calculate the z-statistic: Based on sample data, calculate the z-statistic using the formula.\n",
        "\n",
        "# Determine Critical Value:\n",
        "# Find the critical z-value(s) from the standard normal distribution corresponding to the chosen significance level.\n",
        "\n",
        "# Make a Decision:\n",
        "# If the calculated z-statistic falls beyond the critical value(s) in the rejection region, reject\n",
        "# If it falls within the acceptance region, fail to reject 𝐻0"
      ]
    },
    {
      "cell_type": "code",
      "source": [
        "# 2 : What is a p-value, and how is it used in hypothesis testing? What does it mean if the p-value is very small (e.g., 0.01)?\n",
        "\n",
        "# A p-value is a statistical measure that helps determine the strength of the evidence against the null hypothesis (H0) in hypothesis testing. It represents the probability of observing a test statistic as extreme as, or more extreme than, the one obtained from the sample data, assuming that the null hypothesis is true.\n",
        "# Formulate Hypotheses: Establish the null hypothesis (H0) and the alternative hypothesis (H1)\n",
        "# Select Significance Level: Choose a significance level (α), commonly set at 0.05 or 0.01, which defines the threshold for rejecting H0.\n",
        "# Conduct the Test: Calculate the test statistic based on the sample data.\n",
        "# Calculate the p-value: Determine the p-value corresponding to the test statistic. This involves finding the probability of observing a test statistic at least as extreme as the one calculated.\n",
        "# Make a Decision:\n",
        "# If the p-value is less than or equal to α, reject the null hypothesis(H0).\n",
        "# If the p-value is greater than α, fail to reject H0.\n",
        "\n",
        "# If the p-value is very small (e.g., 0.01), it indicates strong evidence against the null hypothesis.\n",
        "# Strong Evidence: A p-value of 0.01 means there is only a 1% probability of observing the sample data, or something more extreme, if the null hypothesis is true. This suggests that the observed effect is unlikely to be due to random chance.\n",
        "# Rejection of Null Hypothesis: Since 0.01 is typically less than common significance levels (like 0.05), you would reject the null hypothesis, suggesting that the data supports the alternative hypothesis (H1)"
      ],
      "metadata": {
        "id": "dWGkm6y1TLv6"
      },
      "execution_count": 3,
      "outputs": []
    },
    {
      "cell_type": "code",
      "source": [
        "# 3: Compare and contrast the binomial and Bernoulli distributions.\n",
        "\n",
        "# The Bernoulli distribution and the binomial distribution are both discrete probability distributions that are closely related, but they serve different purposes and have distinct characteristics.\n",
        "# Scope: The Bernoulli distribution is for a single trial, while the binomial distribution is for multiple trials.\n",
        "# Parameters: Bernoulli has one parameter p; binomial has two parameters n and p.\n",
        "# Mean and Variance: The mean and variance formulas differ due to the nature of trials involved.\n",
        "# In essence, the Bernoulli distribution is the building block for the binomial distribution, which aggregates results from multiple Bernoulli trials."
      ],
      "metadata": {
        "id": "2QWo4vGTWSDi"
      },
      "execution_count": 4,
      "outputs": []
    },
    {
      "cell_type": "code",
      "source": [
        "#  4: Under what conditions is the binomial distribution used, and how does it relate to the Bernoulli distribution?\n",
        "\n",
        "# Conditions for Binomial Distribution\n",
        "# Fixed Number of Trials: The number of trials n is predetermined and constant.\n",
        "# Independent Trials: Each trial is independent of the others, meaning the outcome of one trial does not affect the others.\n",
        "# Two Possible Outcomes: Each trial results in one of two outcomes: \"success\" or \"failure\".\n",
        "# Constant Probability of Success: The probability of success 𝑝 is the same for each trial, while the probability of failure is 1-𝑝.\n",
        "\n",
        "# Relationship to the Bernoulli Distribution\n",
        "# The binomial distribution is essentially an extension of the Bernoulli distribution. Here’s how they relate:\n",
        "\n",
        "# Single Trial vs. Multiple Trials: The Bernoulli distribution describes a single trial with two outcomes, while the binomial distribution describes the number of successes across multiple independent Bernoulli trials.\n",
        "\n",
        "# Parameterization:\n",
        "\n",
        "# Bernoulli Distribution: Defined by a single parameter 𝑝, representing the probability of success in one trial.\n",
        "# Binomial Distribution: Defined by two parameters, 𝑛 (the number of trials) and 𝑝 (the probability of success for each trial).\n",
        "# Aggregating Bernoulli Trials: If you conduct 𝑛 independent Bernoulli trials, the number of successes in these trials follows a binomial distribution. For example, if you flip a coin 𝑛 times (where heads is a success), the number of heads obtained is modeled by a binomial distribution with parameters 𝑛 (number of flips) and 𝑝=0.5(probability of heads)."
      ],
      "metadata": {
        "id": "9axquwgWXzVC"
      },
      "execution_count": 5,
      "outputs": []
    },
    {
      "cell_type": "code",
      "source": [
        "#5: What are the key properties of the Poisson distribution, and when is it appropriate to use this distribution?\n",
        "\n",
        "# Key Properties of the Poisson Distribution\n",
        "# Definition: The Poisson distribution is defined by the parameter 𝜆, which represents the average number of events in the given interval.\n",
        "# Probability Mass Function (PMF): The PMF of a Poisson-distributed random variable 𝑋 is given by:  FORMULA,where 𝑒 is the base of the natural logarithm.\n",
        "# Mean and Variance:\n",
        "# Memoryless Property: The Poisson distribution does not have a memoryless property like the exponential distribution, but the occurrences of events are independent.\n",
        "# Additivity: If 𝑋1 and 𝑋2 are independent Poisson random variables with parameters 𝜆1 and 𝜆2 ,then 𝑋1+𝑋2 is also Poisson distributed with parameter 𝜆1+𝜆2.\n",
        "\n",
        "# The Poisson distribution is appropriate under the following conditions:\n",
        "# Events Occur Independently: The occurrence of one event does not affect the occurrence of another.\n",
        "# Fixed Interval: The analysis is based on a fixed interval of time or space.\n",
        "# Rare Events: The events are relatively rare compared to the possible number of occurrences in the interval, particularly when the average number of events (𝜆) is small.\n",
        "# Constant Average Rate: The average rate of occurrence (𝜆) is constant over the interval."
      ],
      "metadata": {
        "id": "SB4_HPnggNeb"
      },
      "execution_count": 7,
      "outputs": []
    },
    {
      "cell_type": "code",
      "source": [
        "# 6: Define the terms \"probability distribution\" and \"probability density function\" (PDF). How does a PDF differ from a probability mass function (PMF)?\n",
        "\n",
        "# A probability distribution is a mathematical function that describes the likelihood of different outcomes in a random experiment. It provides a complete description of the probabilities associated with all possible values of a random variable.\n",
        "\n",
        "# A probability density function (PDF) is a specific function associated with continuous probability distributions. It describes the relative likelihood of a continuous random variable taking on a particular value.\n",
        "\n",
        "# Difference Between PDF and PMF\n",
        "# Type of Variable:\n",
        "# PMF (Probability Mass Function): Used for discrete random variables. It gives the probability that a discrete random variable equals a specific value.\n",
        "# PDF (Probability Density Function): Used for continuous random variables. It describes the density of probabilities, not probabilities of specific outcomes.\n",
        "# Probability Values:\n",
        "# PMF: 𝑃(𝑋=𝑥) gives the actual probability that the discrete random variable 𝑋 is equal to 𝑥.\n",
        "# PDF: 𝑓(𝑥) does not give probabilities directly. Instead, the probability that the continuous random variable 𝑋 falls within a range [𝑎,𝑏] is given by the integral of the PDF over that range:\n",
        "# Sum vs. Integral:\n",
        "# PMF: The sum of all probabilities for a discrete random variable equals 1\n",
        "# PDF: The integral of the PDF over its entire range equals 1"
      ],
      "metadata": {
        "id": "2KjITjzpiVe9"
      },
      "execution_count": 8,
      "outputs": []
    },
    {
      "cell_type": "code",
      "source": [
        "# 7: Explain the Central Limit Theorem (CLT) with example.\n",
        "\n",
        "\n",
        "# The Central Limit Theorem (CLT) is a fundamental statistical principle that states that, given a sufficiently large sample size, the sampling distribution of the sample mean will approach a normal distribution, regardless of the shape of the population distribution, provided that the population has a finite mean and variance.\n",
        "\n",
        "# Example of the Central Limit Theorem\n",
        "\n",
        "# Scenario: Imagine you have a population of students' exam scores in a certain subject, which is skewed to the right (most students score lower, with a few scoring very high). Let’s say the mean score is 70 and the standard deviation is 15.\n",
        "# Sampling: You take random samples of size 𝑛=30 from this population and calculate the mean score for each sample.\n",
        "# Distribution of Sample Means: According to the CLT, if you were to plot the means of these samples, even though the original distribution of exam scores is skewed, the distribution of the sample means will tend to follow a normal distribution as you take more samples (assuming 𝑛 is large enough).\n",
        "# Mean and Standard Error: The mean of the sample means will be equal to the population mean (70), and the standard error will be:\n",
        "# Implications: You can use the normal distribution to make inferences about the population mean. For instance, you can construct confidence intervals or perform hypothesis tests on the sample means.\n"
      ],
      "metadata": {
        "id": "jbjvwZmbj7_0"
      },
      "execution_count": 10,
      "outputs": []
    },
    {
      "cell_type": "code",
      "source": [
        "# 8: Compare z-scores and t-scores. When should you use a z-score, and when should a t-score be applied instead?\n",
        "\n",
        "# Z-scores and t-scores are both standardized scores that measure how many standard deviations a data point is from the mean, but they are used in different contexts based on sample size and the availability of population parameters.\n",
        "\n",
        "# Key Differences\n",
        "# Sample Size:\n",
        "# Z-scores: Generally used for larger samples (𝑛≥30).\n",
        "# T-scores: Typically used for smaller samples (𝑛<30).\n",
        "\n",
        "# Population Standard Deviation:\n",
        "# Z-scores: Requires knowledge of the population standard deviation.\n",
        "# T-scores: Does not require the population standard deviation, using the sample standard deviation instead.\n",
        "\n",
        "# Distribution:\n",
        "# Z-scores: Follow the standard normal distribution.\n",
        "# T-scores: Follow the Student's t-distribution, which varies based on sample size (degrees of freedom).\n",
        "\n",
        "# When to Use:(Z score)\n",
        "# Large Sample Size: Typically used when the sample size is large (𝑛≥30).\n",
        "# Known Population Standard Deviation: Appropriate when the population standard deviation is known.\n",
        "# Normal Distribution: Suitable when the underlying data is normally distributed or when the sample size is large enough for the Central Limit Theorem to apply.\n",
        "\n",
        "# When to Use:(T score)\n",
        "# Small Sample Size: Used when the sample size is small (𝑛<30).\n",
        "# Unknown Population Standard Deviation: Appropriate when the population standard deviation is not known, relying instead on the sample standard deviation.\n",
        "# Student's t-distribution: Useful because it accounts for more variability in smaller samples, as it has heavier tails compared to the normal distribution."
      ],
      "metadata": {
        "id": "n2Swvm-zlOC8"
      },
      "execution_count": 11,
      "outputs": []
    },
    {
      "cell_type": "code",
      "source": [
        "# 9: Given a sample mean of 105, a population mean of 100, a standard deviation of 15, and a sample size of 25, calculate the z-score and p-value. Based on a significance level of 0.05, do you reject or fail to reject the null hypothesis?\n",
        "# Task: Write Python code to calculate the z-score and p-value for the given data.\n",
        "#Objective: Apply the formula for the z-score and interpret the p-value for hypothesis testing.\n",
        "\n",
        "\n",
        "import scipy.stats as stats\n",
        "import numpy as np\n",
        "\n",
        "# Given data\n",
        "sample_mean = 105\n",
        "population_mean = 100\n",
        "population_std_dev = 15\n",
        "sample_size = 25\n",
        "\n",
        "# Calculate the z-score\n",
        "z_score = (sample_mean - population_mean) / (population_std_dev / np.sqrt(sample_size))\n",
        "\n",
        "# Calculate the p-value (one-tailed test)\n",
        "p_value = 1 - stats.norm.cdf(z_score)\n",
        "\n",
        "# Output the results\n",
        "print(f\"Z-score: {z_score:.4f}\")\n",
        "print(f\"P-value: {p_value:.4f}\")\n",
        "\n",
        "# Determine if we reject or fail to reject the null hypothesis\n",
        "alpha = 0.05\n",
        "if p_value < alpha:\n",
        "    print(\"Reject the null hypothesis.\")\n",
        "else:\n",
        "    print(\"Fail to reject the null hypothesis.\")\n"
      ],
      "metadata": {
        "colab": {
          "base_uri": "https://localhost:8080/"
        },
        "id": "G980YdOjm8Tl",
        "outputId": "6407b527-4ea7-46e8-f77c-3113f02137ba"
      },
      "execution_count": 12,
      "outputs": [
        {
          "output_type": "stream",
          "name": "stdout",
          "text": [
            "Z-score: 1.6667\n",
            "P-value: 0.0478\n",
            "Reject the null hypothesis.\n"
          ]
        }
      ]
    },
    {
      "cell_type": "code",
      "source": [
        "# 10: Simulate a binomial distribution with 10 trials and a probability of success of 0.6 using Python.\n",
        "# Generate 1,000 samples and plot the distribution. What is the expected mean and variance?\n",
        "# Task: Use Python to generate the data, plot the distribution, and calculate the mean and variance.\n",
        "# Objective: Understand the properties of a binomial distribution and verify them through simulation.\n",
        "\n",
        "\n",
        "import numpy as np\n",
        "import matplotlib.pyplot as plt\n",
        "import seaborn as sns\n",
        "\n",
        "# Parameters\n",
        "n = 10  # number of trials\n",
        "p = 0.6  # probability of success\n",
        "num_samples = 1000  # number of samples\n",
        "\n",
        "# Simulating the binomial distribution\n",
        "samples = np.random.binomial(n, p, num_samples)\n",
        "\n",
        "# Calculating the expected mean and variance\n",
        "expected_mean = n * p\n",
        "expected_variance = n * p * (1 - p)\n",
        "\n",
        "# Plotting the distribution\n",
        "plt.figure(figsize=(10, 6))\n",
        "sns.histplot(samples, bins=range(n + 2), kde=False, stat='probability', color='skyblue')\n",
        "plt.title('Binomial Distribution (n=10, p=0.6)')\n",
        "plt.xlabel('Number of Successes')\n",
        "plt.ylabel('Probability')\n",
        "plt.xticks(range(n + 1))\n",
        "plt.grid(axis='y')\n",
        "\n",
        "# Show the plot\n",
        "plt.show()\n",
        "\n",
        "# Output the expected mean and variance\n",
        "print(f\"Expected Mean: {expected_mean}\")\n",
        "print(f\"Expected Variance: {expected_variance}\")\n",
        "\n",
        "# Calculate and print sample mean and variance from the simulation\n",
        "sample_mean = np.mean(samples)\n",
        "sample_variance = np.var(samples)\n",
        "print(f\"Sample Mean from Simulation: {sample_mean}\")\n",
        "print(f\"Sample Variance from Simulation: {sample_variance}\")\n"
      ],
      "metadata": {
        "colab": {
          "base_uri": "https://localhost:8080/",
          "height": 633
        },
        "id": "WH6FZTw8oZ3O",
        "outputId": "1fb48ac3-b0fe-4788-e31e-c570a3556afc"
      },
      "execution_count": 13,
      "outputs": [
        {
          "output_type": "display_data",
          "data": {
            "text/plain": [
              "<Figure size 1000x600 with 1 Axes>"
            ],
            "image/png": "[encoded data removed]"
          },
          "metadata": {}
        },
        {
          "output_type": "stream",
          "name": "stdout",
          "text": [
            "Expected Mean: 6.0\n",
            "Expected Variance: 2.4000000000000004\n",
            "Sample Mean from Simulation: 5.932\n",
            "Sample Variance from Simulation: 2.443376\n"
          ]
        }
      ]
    },
    {
      "cell_type": "code",
      "source": [],
      "metadata": {
        "id": "aocP0cMLo0Q7"
      },
      "execution_count": null,
      "outputs": []
    }
  ]
}